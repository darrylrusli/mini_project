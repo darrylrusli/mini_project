{
 "cells": [
  {
   "cell_type": "markdown",
   "id": "758b92fd",
   "metadata": {},
   "source": [
    "#  Mini Project 2"
   ]
  },
  {
   "cell_type": "code",
   "execution_count": 1,
   "id": "e385ec8f",
   "metadata": {},
   "outputs": [
    {
     "ename": "ModuleNotFoundError",
     "evalue": "No module named 'imblearn'",
     "output_type": "error",
     "traceback": [
      "\u001b[1;31m---------------------------------------------------------------------------\u001b[0m",
      "\u001b[1;31mModuleNotFoundError\u001b[0m                       Traceback (most recent call last)",
      "\u001b[1;32m~\\AppData\\Local\\Temp/ipykernel_32196/2002607813.py\u001b[0m in \u001b[0;36m<module>\u001b[1;34m\u001b[0m\n\u001b[0;32m     21\u001b[0m \u001b[1;32mfrom\u001b[0m \u001b[0msklearn\u001b[0m\u001b[1;33m.\u001b[0m\u001b[0mneighbors\u001b[0m \u001b[1;32mimport\u001b[0m \u001b[0mKNeighborsClassifier\u001b[0m\u001b[1;33m\u001b[0m\u001b[1;33m\u001b[0m\u001b[0m\n\u001b[0;32m     22\u001b[0m \u001b[1;33m\u001b[0m\u001b[0m\n\u001b[1;32m---> 23\u001b[1;33m \u001b[1;32mfrom\u001b[0m \u001b[0mimblearn\u001b[0m\u001b[1;33m.\u001b[0m\u001b[0mover_sampling\u001b[0m \u001b[1;32mimport\u001b[0m \u001b[0mRandomOverSampler\u001b[0m\u001b[1;33m,\u001b[0m \u001b[0mSMOTE\u001b[0m\u001b[1;33m\u001b[0m\u001b[1;33m\u001b[0m\u001b[0m\n\u001b[0m\u001b[0;32m     24\u001b[0m \u001b[1;32mfrom\u001b[0m \u001b[0mimblearn\u001b[0m\u001b[1;33m.\u001b[0m\u001b[0munder_sampling\u001b[0m \u001b[1;32mimport\u001b[0m \u001b[0mRandomUnderSampler\u001b[0m\u001b[1;33m\u001b[0m\u001b[1;33m\u001b[0m\u001b[0m\n\u001b[0;32m     25\u001b[0m \u001b[1;33m\u001b[0m\u001b[0m\n",
      "\u001b[1;31mModuleNotFoundError\u001b[0m: No module named 'imblearn'"
     ]
    }
   ],
   "source": [
    "import numpy as np\n",
    "import matplotlib.pyplot as plt\n",
    "import pandas as pd\n",
    "import seaborn as sns\n",
    "%matplotlib inline\n",
    "\n",
    "from sklearn.metrics import confusion_matrix, classification_report\n",
    "from sklearn.model_selection import train_test_split, cross_val_score\n",
    "\n",
    "from sklearn.linear_model import LogisticRegression\n",
    "from sklearn.naive_bayes import GaussianNB\n",
    "from sklearn.svm import SVC\n",
    "from sklearn.ensemble import RandomForestClassifier\n",
    "\n",
    "from sklearn.metrics import roc_curve, auc\n",
    "import sklearn.metrics as metrics\n",
    "\n",
    "from sklearn.impute import SimpleImputer\n",
    "from sklearn.preprocessing import StandardScaler\n",
    "from sklearn.pipeline import make_pipeline,Pipeline\n",
    "from sklearn.neighbors import KNeighborsClassifier\n",
    "\n",
    "from imblearn.over_sampling import RandomOverSampler, SMOTE\n",
    "from imblearn.under_sampling import RandomUnderSampler\n",
    "\n",
    "from collections import Counter\n",
    "\n",
    "from sklearn.utils import resample"
   ]
  },
  {
   "cell_type": "markdown",
   "id": "696f1a51",
   "metadata": {},
   "source": [
    "## Reading the Data"
   ]
  },
  {
   "cell_type": "code",
   "execution_count": null,
   "id": "761a9121",
   "metadata": {},
   "outputs": [],
   "source": [
    "stroke_prediction_data = '../DATA/healthcare-dataset-stroke-data.csv'"
   ]
  },
  {
   "cell_type": "code",
   "execution_count": null,
   "id": "545132aa",
   "metadata": {},
   "outputs": [],
   "source": [
    "df = pd.read_csv(stroke_prediction_data)"
   ]
  },
  {
   "cell_type": "markdown",
   "id": "e16624af",
   "metadata": {},
   "source": [
    "### EDA"
   ]
  },
  {
   "cell_type": "code",
   "execution_count": null,
   "id": "d4cdd03c",
   "metadata": {},
   "outputs": [],
   "source": [
    "df.head()"
   ]
  },
  {
   "cell_type": "code",
   "execution_count": null,
   "id": "20e48a77",
   "metadata": {},
   "outputs": [],
   "source": [
    "# Checking for Data Types\n",
    "\n",
    "df.dtypes"
   ]
  },
  {
   "cell_type": "code",
   "execution_count": null,
   "id": "d1ac047e",
   "metadata": {},
   "outputs": [],
   "source": [
    "# Data Shape\n",
    "\n",
    "df.shape"
   ]
  },
  {
   "cell_type": "code",
   "execution_count": null,
   "id": "fe4b5f57",
   "metadata": {},
   "outputs": [],
   "source": [
    "# Checking for the null values\n",
    "\n",
    "df.isnull().sum()"
   ]
  },
  {
   "cell_type": "code",
   "execution_count": null,
   "id": "f15e933d",
   "metadata": {},
   "outputs": [],
   "source": [
    "# Fill null values \n",
    "bmi_avg = df['bmi'].mean()\n",
    "\n",
    "df['bmi'].fillna(value = bmi_avg, inplace = True)"
   ]
  },
  {
   "cell_type": "code",
   "execution_count": null,
   "id": "3b89d750",
   "metadata": {},
   "outputs": [],
   "source": [
    "df.head()"
   ]
  },
  {
   "cell_type": "markdown",
   "id": "6b47de3c",
   "metadata": {},
   "source": [
    "# EDA"
   ]
  },
  {
   "cell_type": "code",
   "execution_count": null,
   "id": "0a11b2b1",
   "metadata": {},
   "outputs": [],
   "source": [
    "df.groupby(['stroke' , 'gender'])['stroke'].count().unstack(1).plot.bar(figsize = (20,20))\n",
    "plt.rcParams.update({'font.size': 20})\n",
    "plt.xlabel('Gender', fontsize = 20)\n",
    "plt.ylabel('Stroke', fontsize = 20)\n",
    "plt.title('Stroke Prediction By Gender', fontsize = 20)"
   ]
  },
  {
   "cell_type": "code",
   "execution_count": null,
   "id": "d609e2c7",
   "metadata": {},
   "outputs": [],
   "source": [
    "df.groupby(['stroke' , 'work_type'])['stroke'].count().unstack(1).plot.bar(figsize = (20,20))\n",
    "plt.rcParams.update({'font.size': 15})\n",
    "plt.xlabel('Work Type', fontsize = 20)\n",
    "plt.ylabel('Stroke', fontsize = 20)\n",
    "plt.title('Stroke Prediction by Work Type', fontsize = 20)"
   ]
  },
  {
   "cell_type": "code",
   "execution_count": null,
   "id": "dfbd72ab",
   "metadata": {},
   "outputs": [],
   "source": [
    "plt.figure(figsize = (20,20))\n",
    "sns.barplot(x = 'gender', y = 'stroke', hue = 'heart_disease' ,data = df)\n",
    "plt.rcParams.update({'font.size': 30})\n",
    "plt.ylabel('Stroke', fontsize = 20)\n",
    "plt.title('Stroke Prediction based on Heart Disease History', fontsize = 20)"
   ]
  },
  {
   "cell_type": "code",
   "execution_count": null,
   "id": "ae926176",
   "metadata": {},
   "outputs": [],
   "source": [
    "df.groupby(['stroke' , 'heart_disease'])['stroke'].count().unstack(1).plot.bar(figsize = (20,20))\n",
    "plt.rcParams.update({'font.size': 30})\n",
    "plt.xlabel('Heart Disease', fontsize = 20)\n",
    "plt.ylabel('Stroke', fontsize = 20)\n",
    "plt.title(\"Stroke Prediction by Heart Disease\", fontsize = 20)"
   ]
  },
  {
   "cell_type": "code",
   "execution_count": null,
   "id": "54caa819",
   "metadata": {},
   "outputs": [],
   "source": [
    "plt.figure(figsize = (20,20))\n",
    "plt.rcParams.update({'font.size': 30})\n",
    "sns.boxplot(x = 'stroke', y = 'age', data = df)\n",
    "plt.xlabel('Stroke', fontsize = 20)\n",
    "plt.ylabel('Age', fontsize = 20)\n",
    "plt.title('Stroke Prediction based on Age', fontsize = 20)"
   ]
  },
  {
   "cell_type": "code",
   "execution_count": null,
   "id": "dd8ee181",
   "metadata": {},
   "outputs": [],
   "source": [
    "df.groupby(['stroke' , 'hypertension'])['stroke'].count().unstack(1).plot.bar(figsize = (20,20))\n",
    "plt.rcParams.update({'font.size': 30})\n",
    "plt.xlabel('Hypertension', fontsize = 20)\n",
    "plt.ylabel('Stroke', fontsize = 20)\n",
    "plt.title('Stroke Prediction by Hypertension History', fontsize = 20)"
   ]
  },
  {
   "cell_type": "code",
   "execution_count": null,
   "id": "7ebda279",
   "metadata": {},
   "outputs": [],
   "source": [
    "plt.figure(figsize = (20,20))\n",
    "ax = sns.barplot(data=df, x='smoking_status', y='stroke')\n",
    "plt.rcParams.update({'font.size': 20})\n",
    "ax.set_title('Chance of Getting Stroke Based on Smoking Behavior', y=1.1, weight='bold', fontsize=25)\n",
    "ax.set_xlabel('Smoking Status', fontsize = 20)\n",
    "ax.set_ylabel('Stroke', fontsize = 20)"
   ]
  },
  {
   "cell_type": "code",
   "execution_count": null,
   "id": "0002cb76",
   "metadata": {},
   "outputs": [],
   "source": [
    "df.columns"
   ]
  },
  {
   "cell_type": "markdown",
   "id": "5381ad67",
   "metadata": {},
   "source": [
    "# Logistic Regression"
   ]
  },
  {
   "cell_type": "code",
   "execution_count": null,
   "id": "f2ef83db",
   "metadata": {},
   "outputs": [],
   "source": [
    "df_drop_columns = ['id', 'stroke', 'ever_married', 'work_type', 'Residence_type']\n",
    "X_drop_columns = [\n",
    "    'gender_Male',\n",
    "    'gender_Other',\n",
    "    'smoking_status_Unknown',\n",
    "    'smoking_status_formerly smoked',\n",
    "    'smoking_status_never smoked'\n",
    "]\n",
    "\n",
    "X_rename_columns = {\n",
    "    'gender_female' : 'is_female',\n",
    "    'smoking_status_smokes' : 'smokes'    \n",
    "}"
   ]
  },
  {
   "cell_type": "code",
   "execution_count": null,
   "id": "16bae989",
   "metadata": {},
   "outputs": [],
   "source": [
    "X = df.drop(columns = df_drop_columns)\n",
    "X = pd.get_dummies(X)\n",
    "X.drop(columns = X_drop_columns, inplace = True)\n",
    "X.rename(columns = X_rename_columns, inplace = True)\n",
    "y = df['stroke']\n",
    "X_train, X_test, y_train, y_test = train_test_split(X, y, test_size = 0.2, stratify = y, random_state = 42)"
   ]
  },
  {
   "cell_type": "code",
   "execution_count": null,
   "id": "81aa0f6a",
   "metadata": {},
   "outputs": [],
   "source": [
    "log = LogisticRegression(max_iter = 2000, solver = 'liblinear', class_weight = 'balanced')\n",
    "\n",
    "log.fit(X_train, y_train)\n",
    "train_accuracy_score = log.score(X_train, y_train)\n",
    "print('Train accuracy score ', train_accuracy_score)\n",
    "\n",
    "test_accuracy_score = log.score(X_test, y_test)\n",
    "print('Test accuracy score ', test_accuracy_score)"
   ]
  },
  {
   "cell_type": "code",
   "execution_count": null,
   "id": "cf945f8f",
   "metadata": {},
   "outputs": [],
   "source": [
    "y_pred = log.predict(X_test)\n",
    "\n",
    "# predict test probabability\n",
    "prob_preds = log.predict_proba(X_test)"
   ]
  },
  {
   "cell_type": "code",
   "execution_count": null,
   "id": "8648b3cd",
   "metadata": {},
   "outputs": [],
   "source": [
    "tp, fn, fp, tn = confusion_matrix(y_test, y_pred, labels = [1,0]).reshape(-1)\n",
    "print('Outcome values \\n', tp, fn, fp, tn)"
   ]
  },
  {
   "cell_type": "code",
   "execution_count": null,
   "id": "8c261fc9",
   "metadata": {},
   "outputs": [],
   "source": [
    "cm_index = ['is_stroke', 'is_healthy']\n",
    "cm_columns = ['predicted_cancer', 'predicted_healthy']\n",
    "cm = confusion_matrix(y_pred, y_test)\n",
    "cm = pd.DataFrame(cm, index = cm_index, columns = cm_columns)\n",
    "cm"
   ]
  },
  {
   "cell_type": "code",
   "execution_count": null,
   "id": "d976d3bb",
   "metadata": {},
   "outputs": [],
   "source": [
    "print('Logistic Regression Cross Validations Score ', np.mean(cross_val_score(log, X_test, y_test, cv = 5)))"
   ]
  },
  {
   "cell_type": "code",
   "execution_count": null,
   "id": "fef1a71e",
   "metadata": {},
   "outputs": [],
   "source": [
    "print(classification_report(y_pred, y_test))"
   ]
  },
  {
   "cell_type": "code",
   "execution_count": null,
   "id": "c7781f65",
   "metadata": {},
   "outputs": [],
   "source": [
    "# ros = RandomOverSampler(random_state = 42)\n",
    "# smote = SMOTE()\n",
    "undersample = RandomUnderSampler(sampling_strategy = 'majority')\n",
    "\n",
    "# Fit Predictor and target\n",
    "\n",
    "X_train_undersample, y_train_undersample = undersample.fit_resample(X_train, y_train)\n",
    "\n",
    "print('Original dataset shape ', Counter(y_train))\n",
    "print('Resample dataset shape ', Counter(y_train_undersample))"
   ]
  },
  {
   "cell_type": "code",
   "execution_count": null,
   "id": "bdd9d9c0",
   "metadata": {},
   "outputs": [],
   "source": [
    "log = LogisticRegression(max_iter = 2000, solver = 'liblinear', class_weight = 'balanced')\n",
    "\n",
    "log.fit(X_train_undersample, y_train_undersample)\n",
    "train_accuracy_score = log.score(X_train_undersample, y_train_undersample)\n",
    "print('Tain accuracy score ', train_accuracy_score)\n",
    "# Test Accuracy Score\n",
    "\n",
    "test_accuracy = log.score(X_test, y_test)\n",
    "print('Test Accuracy ', test_accuracy)"
   ]
  },
  {
   "cell_type": "code",
   "execution_count": null,
   "id": "f0219566",
   "metadata": {},
   "outputs": [],
   "source": [
    "y_pred = log.predict(X_test)\n",
    "\n",
    "prob_preds = log.predict_proba(X_test)\n",
    "\n",
    "tp, fn, fp, tn = confusion_matrix(y_test, y_pred, labels = [1,0]).reshape(-1)\n",
    "print('Outcome values: \\n', tp, fn, fp, tn)"
   ]
  },
  {
   "cell_type": "code",
   "execution_count": null,
   "id": "25656d64",
   "metadata": {},
   "outputs": [],
   "source": [
    "# Calculate Accuracy\n",
    "\n",
    "accuracy = (tp + tn) / float(tp + tn + fp + fn)\n",
    "print('Classification Accuracy: ', accuracy)"
   ]
  },
  {
   "cell_type": "code",
   "execution_count": null,
   "id": "c722a951",
   "metadata": {},
   "outputs": [],
   "source": [
    "# Calculate Classification Error\n",
    "\n",
    "misclassification_rate = (fp + fn) / float(tp + tn + fp + fn)\n",
    "print('Misclassification rate is ' , misclassification_rate)"
   ]
  },
  {
   "cell_type": "code",
   "execution_count": null,
   "id": "2360a813",
   "metadata": {},
   "outputs": [],
   "source": [
    "# Calculate True Positive Rate (Sensitivity)\n",
    "\n",
    "tpr = tp/float(fn+tp)\n",
    "print('tpr is ', tpr)"
   ]
  },
  {
   "cell_type": "code",
   "execution_count": null,
   "id": "c361541d",
   "metadata": {},
   "outputs": [],
   "source": [
    "# Calculate Specificity (True Negative Rate)\n",
    "tnr = tn / float(tn+fp)\n",
    "print('Correct Negative Prediction Rate: ', tnr)"
   ]
  },
  {
   "cell_type": "code",
   "execution_count": null,
   "id": "50079522",
   "metadata": {},
   "outputs": [],
   "source": [
    "# Calculate false positive rate\n",
    "\n",
    "fpr = fp/float(tn+fp)\n",
    "print('False Postive Rate: ', fpr)"
   ]
  },
  {
   "cell_type": "code",
   "execution_count": null,
   "id": "fcdb7998",
   "metadata": {},
   "outputs": [],
   "source": [
    "# Calculate Precision \n",
    "\n",
    "precision = tp/float(tp+fp)\n",
    "print('Precision: ', precision)"
   ]
  },
  {
   "cell_type": "code",
   "execution_count": null,
   "id": "38c8692b",
   "metadata": {},
   "outputs": [],
   "source": [
    "cm_index = ['is_stroke', 'is_healthy']\n",
    "cm_columns = ['predicted_stroke', 'predicted_healthy']\n",
    "log_cm = confusion_matrix(y_pred, y_test)\n",
    "log_cm = pd.DataFrame(log_cm, index = cm_index, columns = cm_columns)\n",
    "log_cm"
   ]
  },
  {
   "cell_type": "code",
   "execution_count": null,
   "id": "2ab4ff42",
   "metadata": {},
   "outputs": [],
   "source": [
    "print(classification_report(y_test, y_pred))"
   ]
  },
  {
   "cell_type": "code",
   "execution_count": null,
   "id": "91b9f8bd",
   "metadata": {},
   "outputs": [],
   "source": [
    "print('Logistic Regression Cross Validations Score ', np.mean(cross_val_score(log, X_test, y_test, cv = 5)))"
   ]
  },
  {
   "cell_type": "markdown",
   "id": "fde0012d",
   "metadata": {},
   "source": [
    "# KNN"
   ]
  },
  {
   "cell_type": "code",
   "execution_count": null,
   "id": "d3e3fa71",
   "metadata": {},
   "outputs": [],
   "source": [
    "df_drop_columns = ['id', 'stroke', 'ever_married', 'work_type', 'Residence_type']\n",
    "X_drop_columns = [\n",
    "    'gender_Male',\n",
    "    'gender_Other',\n",
    "    'smoking_status_Unknown',\n",
    "    'smoking_status_formerly smoked',\n",
    "    'smoking_status_never smoked'\n",
    "]\n",
    "\n",
    "X_rename_columns = {\n",
    "    'gender_female' : 'is_female',\n",
    "    'smoking_status_smokes' : 'smokes'    \n",
    "}\n",
    "\n",
    "X = df.drop(columns = df_drop_columns)\n",
    "X = pd.get_dummies(X)\n",
    "X.drop(columns = X_drop_columns, inplace = True)\n",
    "X.rename(columns = X_rename_columns, inplace = True)\n",
    "y = df['stroke']\n",
    "X_train, X_test, y_train, y_test = train_test_split(X, y, test_size = 0.2, stratify = y, random_state = 42)"
   ]
  },
  {
   "cell_type": "code",
   "execution_count": null,
   "id": "626f0f59",
   "metadata": {},
   "outputs": [],
   "source": [
    "training_data_rows = len(X_train.index)\n",
    "\n",
    "knn = KNeighborsClassifier(n_neighbors = training_data_rows)\n",
    "\n",
    "# Fit train Data \n",
    "knn.fit(X_train, y_train)\n",
    "train_accuracy_score = knn.score(X_train, y_train)\n",
    "print('Train Accuracy Score ', train_accuracy_score)\n",
    "\n",
    "test_accuracy_score = knn.score(X_test, y_test)\n",
    "print('Test Accuracy Score: ', test_accuracy_score)"
   ]
  },
  {
   "cell_type": "code",
   "execution_count": null,
   "id": "aa995531",
   "metadata": {},
   "outputs": [],
   "source": [
    "y_pred = knn.predict(X_test)\n",
    "\n",
    "# predict test probability:\n",
    "prob_preds = knn.predict_proba(X_test)\n",
    "\n",
    "knn_tp, knn_fn, knn_fp, knn_tn = confusion_matrix(y_test, y_pred, labels = [1, 0]).reshape(-1)\n",
    "print('Outcome values \\n', knn_tp, knn_fn, knn_fp, knn_tn)"
   ]
  },
  {
   "cell_type": "code",
   "execution_count": null,
   "id": "557cbbbf",
   "metadata": {},
   "outputs": [],
   "source": [
    "cm_index= ['is_stroke', 'is_healthy']\n",
    "cm_columns = ['predicted_cancer', 'predicted_healthy']\n",
    "cm = confusion_matrix(y_pred, y_test)\n",
    "cm = pd.DataFrame(cm, index = cm_index, columns = cm_columns)\n",
    "cm"
   ]
  },
  {
   "cell_type": "code",
   "execution_count": null,
   "id": "26e1b9fe",
   "metadata": {},
   "outputs": [],
   "source": [
    "undersample = RandomUnderSampler(sampling_strategy = 0.5)\n",
    "\n",
    "# Fit Predictor and target\n",
    "\n",
    "X_train_undersample, y_train_undersample = undersample.fit_resample(X_train, y_train)\n",
    "\n",
    "print('Original dataset shape ', Counter(y_train))\n",
    "print('Original dataset shape ', Counter(y_train_undersample))"
   ]
  },
  {
   "cell_type": "code",
   "execution_count": null,
   "id": "452fcde6",
   "metadata": {},
   "outputs": [],
   "source": [
    "training_data_rows = len(X_train_undersample.index)\n",
    "\n",
    "knn = KNeighborsClassifier(n_neighbors = training_data_rows)\n",
    "\n",
    "# Fit train Data \n",
    "knn.fit(X_train_undersample, y_train_undersample)\n",
    "train_accuracy_score = knn.score(X_train_undersample, y_train_undersample)\n",
    "print('Train Accuracy Score ', train_accuracy_score)\n",
    "\n",
    "test_accuracy_score = knn.score(X_test, y_test)\n",
    "print('Test Accuracy Score: ', test_accuracy_score)"
   ]
  },
  {
   "cell_type": "code",
   "execution_count": null,
   "id": "5faa2798",
   "metadata": {},
   "outputs": [],
   "source": [
    "y_pred = knn.predict(X_test)\n",
    "\n",
    "prob_preds = knn.predict_proba(X_test)\n",
    "\n",
    "knn_tp, knn_fn, knn_fp, knn_tn = confusion_matrix(y_test, y_pred, labels = [1,0]).reshape(-1)\n",
    "print('Outcome values: \\n', knn_tp, knn_fn, knn_fp, knn_tn)"
   ]
  },
  {
   "cell_type": "markdown",
   "id": "1d6d3492",
   "metadata": {},
   "source": [
    "## Accuracy"
   ]
  },
  {
   "cell_type": "code",
   "execution_count": null,
   "id": "f739c40b",
   "metadata": {},
   "outputs": [],
   "source": [
    "accuracy = (knn_tp + knn_tn) / float(knn_tp + knn_tn + knn_fp + knn_fn)\n",
    "print('Classification accuracy ', accuracy)"
   ]
  },
  {
   "cell_type": "markdown",
   "id": "ba16d7ee",
   "metadata": {},
   "source": [
    "## Classification Error"
   ]
  },
  {
   "cell_type": "code",
   "execution_count": null,
   "id": "f57cde0d",
   "metadata": {},
   "outputs": [],
   "source": [
    "misclassification_rate = (knn_fp + knn_fn) / float(knn_tp + knn_tn + knn_fp + knn_fn)\n",
    "print('Misclassification rate is ',misclassification_rate)"
   ]
  },
  {
   "cell_type": "markdown",
   "id": "c680e049",
   "metadata": {},
   "source": [
    "## True Positive Rate"
   ]
  },
  {
   "cell_type": "code",
   "execution_count": null,
   "id": "11a4ebcd",
   "metadata": {},
   "outputs": [],
   "source": [
    "knn_tpr = knn_tp / float(knn_fn + knn_tp)\n",
    "\n",
    "print('True Positive Rate ', knn_tpr)"
   ]
  },
  {
   "cell_type": "markdown",
   "id": "8b09fe21",
   "metadata": {},
   "source": [
    "## Specificity (True Negative Rate)"
   ]
  },
  {
   "cell_type": "code",
   "execution_count": null,
   "id": "efbe96d4",
   "metadata": {},
   "outputs": [],
   "source": [
    "knn_tnr = knn_tn / float(knn_tn + knn_fp)\n",
    "\n",
    "print('Specifity (True Negative Rate) ', knn_tnr)"
   ]
  },
  {
   "cell_type": "markdown",
   "id": "cf3bca5d",
   "metadata": {},
   "source": [
    "## Calculate False Positive Rate"
   ]
  },
  {
   "cell_type": "code",
   "execution_count": null,
   "id": "06b6e6f2",
   "metadata": {},
   "outputs": [],
   "source": [
    "knn_fpr = knn_fp / float(knn_tn + knn_fp)\n",
    "\n",
    "print('False Positive Rate: ', fpr)"
   ]
  },
  {
   "cell_type": "markdown",
   "id": "cbaf9133",
   "metadata": {},
   "source": [
    "## Calculate Precision"
   ]
  },
  {
   "cell_type": "code",
   "execution_count": null,
   "id": "9f38b341",
   "metadata": {},
   "outputs": [],
   "source": [
    "precision =knn_tp / float(knn_tp + knn_fp)\n",
    "print('Precision: ', precision)"
   ]
  },
  {
   "cell_type": "code",
   "execution_count": null,
   "id": "7f6c645a",
   "metadata": {},
   "outputs": [],
   "source": [
    "cm_index = ['is_stroke', 'is_healthy']\n",
    "cm_columns = ['predicted_stroke', 'predicted_healthy']\n",
    "\n",
    "knn_cm = confusion_matrix(y_pred, y_test)\n",
    "knn_cm = pd.DataFrame(knn_cm, index = cm_index, columns = cm_columns)\n",
    "knn_cm"
   ]
  },
  {
   "cell_type": "code",
   "execution_count": null,
   "id": "7a866289",
   "metadata": {},
   "outputs": [],
   "source": [
    "print(classification_report(y_test, y_pred))"
   ]
  },
  {
   "cell_type": "markdown",
   "id": "ff281f0b",
   "metadata": {},
   "source": [
    "# Random Forest"
   ]
  },
  {
   "cell_type": "code",
   "execution_count": null,
   "id": "0aa3694a",
   "metadata": {},
   "outputs": [],
   "source": [
    "rfc = RandomForestClassifier(n_estimators = 300, class_weight = 'balanced' )\n",
    "\n",
    "df_drop_columns = ['id', 'stroke', 'ever_married', 'work_type', 'Residence_type']\n",
    "X_drop_columns = [\n",
    "    'gender_Male',\n",
    "    'gender_Other',\n",
    "    'smoking_status_Unknown',\n",
    "    'smoking_status_formerly smoked',\n",
    "    'smoking_status_never smoked'\n",
    "]\n",
    "\n",
    "X_rename_columns = {\n",
    "    'gender_female' : 'is_female',\n",
    "    'smoking_status_smokes' : 'smokes'    \n",
    "}\n",
    "\n",
    "X = df.drop(columns = df_drop_columns)\n",
    "X = pd.get_dummies(X)\n",
    "X.drop(columns = X_drop_columns, inplace = True)\n",
    "X.rename(columns = X_rename_columns, inplace = True)\n",
    "y = df['stroke']\n",
    "X_train, X_test, y_train, y_test = train_test_split(X, y, test_size = 0.2, stratify = y, random_state = 42)"
   ]
  },
  {
   "cell_type": "code",
   "execution_count": null,
   "id": "86162cc5",
   "metadata": {},
   "outputs": [],
   "source": [
    "rfc.fit(X_train, y_train)\n",
    "\n",
    "train_score = rfc.score(X_train, y_train)\n",
    "print('Train Score Accuracy ', train_score)\n",
    "\n",
    "test_score = rfc.score(X_test, y_test)\n",
    "print('Test Score Accuracy ', test_score)"
   ]
  },
  {
   "cell_type": "code",
   "execution_count": null,
   "id": "07c06b35",
   "metadata": {},
   "outputs": [],
   "source": [
    "y_pred = rfc.predict(X_test)\n",
    "\n",
    "# predict test probability\n",
    "prob_preds = rfc.predict_proba(X_test)\n",
    "\n",
    "rfc_tp, rfc_fn, rfc_fp, rfc_tn = confusion_matrix(y_test, y_pred, labels = [1,0]).reshape(-1)\n",
    "print('Outcome values \\n', rfc_tp, rfc_fn, rfc_fp, rfc_tn)"
   ]
  },
  {
   "cell_type": "code",
   "execution_count": null,
   "id": "c010ad69",
   "metadata": {},
   "outputs": [],
   "source": [
    "cm_index = ['is_stroke', 'is_healthy']\n",
    "cm_columns = ['predicted_cancer', 'predicted_healthy']\n",
    "cm = confusion_matrix(y_pred, y_test)\n",
    "cm = pd.DataFrame(cm, index = cm_index, columns = cm_columns)\n",
    "cm"
   ]
  },
  {
   "cell_type": "code",
   "execution_count": null,
   "id": "fc97b625",
   "metadata": {},
   "outputs": [],
   "source": [
    "# ros = RandomOverSampler(random_state = 42)\n",
    "undersample = RandomUnderSampler(sampling_strategy = 'majority')\n",
    "\n",
    "# Fit Predictor and target\n",
    "\n",
    "X_train_undersample, y_train_undersample = undersample.fit_resample(X_train, y_train)\n",
    "\n",
    "print('Original dataset shape ', Counter(y_train))\n",
    "print('Resample dataset shape ', Counter(y_train_undersample))"
   ]
  },
  {
   "cell_type": "code",
   "execution_count": null,
   "id": "42980888",
   "metadata": {},
   "outputs": [],
   "source": [
    "rfc.fit(X_train_undersample, y_train_undersample)\n",
    "\n",
    "train_score = rfc.score(X_train_undersample, y_train_undersample)\n",
    "print('Train Score Accuracy ', train_score)\n",
    "\n",
    "test_score = rfc.score(X_test, y_test)\n",
    "print('Test Score Accuracy ', test_score)"
   ]
  },
  {
   "cell_type": "code",
   "execution_count": null,
   "id": "d24555f5",
   "metadata": {},
   "outputs": [],
   "source": [
    "y_pred = log.predict(X_test)\n",
    "\n",
    "probs_preds = rfc.predict_proba(X_test)\n",
    "\n",
    "rfc_tp, rfc_fn, rfc_fp, rfc_tn = confusion_matrix(y_test, y_pred, labels = [1, 0]).reshape(-1)\n",
    "print('Outcome values: \\n', rfc_tp, rfc_fn, rfc_fp, rfc_tn)"
   ]
  },
  {
   "cell_type": "code",
   "execution_count": null,
   "id": "e549c50d",
   "metadata": {},
   "outputs": [],
   "source": [
    "print(classification_report(y_test, y_pred))"
   ]
  },
  {
   "cell_type": "markdown",
   "id": "9834792c",
   "metadata": {},
   "source": [
    "## Accuracy"
   ]
  },
  {
   "cell_type": "code",
   "execution_count": null,
   "id": "654b3fe2",
   "metadata": {},
   "outputs": [],
   "source": [
    "accuracy = (rfc_tp + rfc_tn) / float(rfc_tp + rfc_tn + rfc_fp + rfc_fn)\n",
    "print('Classification Accuracy ', accuracy)"
   ]
  },
  {
   "cell_type": "markdown",
   "id": "75b3e1e6",
   "metadata": {},
   "source": [
    "## Classification Error"
   ]
  },
  {
   "cell_type": "code",
   "execution_count": null,
   "id": "da4dee41",
   "metadata": {},
   "outputs": [],
   "source": [
    "misclassification_rate = (rfc_fp + rfc_fn) / float(rfc_tp + rfc_tn + rfc_fp + rfc_fn)\n",
    "print('Misclassification rate ',misclassification_rate )"
   ]
  },
  {
   "cell_type": "markdown",
   "id": "1f3ae03c",
   "metadata": {},
   "source": [
    "## True Positive Rate"
   ]
  },
  {
   "cell_type": "code",
   "execution_count": null,
   "id": "b98f551d",
   "metadata": {},
   "outputs": [],
   "source": [
    "rfc_tpr = rfc_tp / float(rfc_fn + rfc_tp)\n",
    "print('True positive rate ', rfc_tpr)"
   ]
  },
  {
   "cell_type": "markdown",
   "id": "d1559c77",
   "metadata": {},
   "source": [
    "## Specifity (True Negative Rate)"
   ]
  },
  {
   "cell_type": "code",
   "execution_count": null,
   "id": "55c1f63a",
   "metadata": {},
   "outputs": [],
   "source": [
    "rfc_tnr = rfc_tn / float(rfc_tn + rfc_fp)\n",
    "print('True Negative Rate: ', rfc_tnr)"
   ]
  },
  {
   "cell_type": "markdown",
   "id": "d318037e",
   "metadata": {},
   "source": [
    "## False Positive Rate"
   ]
  },
  {
   "cell_type": "code",
   "execution_count": null,
   "id": "3fe7224c",
   "metadata": {},
   "outputs": [],
   "source": [
    "rfc_fpr = rfc_fp / float(rfc_tn + rfc_fp)\n",
    "print('False positive rate ', rfc_fpr)"
   ]
  },
  {
   "cell_type": "markdown",
   "id": "ff453b10",
   "metadata": {},
   "source": [
    "## Calculate Precision"
   ]
  },
  {
   "cell_type": "code",
   "execution_count": null,
   "id": "f29d2e66",
   "metadata": {},
   "outputs": [],
   "source": [
    "precision = rfc_tp / float(rfc_tp + rfc_fp)\n",
    "print('Precision: ', precision)"
   ]
  },
  {
   "cell_type": "markdown",
   "id": "f91e1508",
   "metadata": {},
   "source": [
    "## Confusion Matrix"
   ]
  },
  {
   "cell_type": "code",
   "execution_count": null,
   "id": "577faf02",
   "metadata": {},
   "outputs": [],
   "source": [
    "cm_index = ['is_stroke', 'is_healthy']\n",
    "cm_columns = ['predicted_stroke', 'predicted_healthy']\n",
    "\n",
    "rfc_cm = confusion_matrix(y_pred, y_test)\n",
    "rfc_cm = pd.DataFrame(rfc_cm, index = cm_index, columns = cm_columns)\n",
    "rfc_cm"
   ]
  },
  {
   "cell_type": "markdown",
   "id": "a1517e99",
   "metadata": {},
   "source": [
    "# Support Vector Machine"
   ]
  },
  {
   "cell_type": "code",
   "execution_count": 2,
   "id": "6bd3fa03",
   "metadata": {},
   "outputs": [],
   "source": [
    "df_drop_columns = ['id', 'stroke', 'ever_married', 'work_type', 'Residence_type']\n",
    "X_drop_columns = [\n",
    "    'gender_Male',\n",
    "    'gender_Other',\n",
    "    'smoking_status_Unknown',\n",
    "    'smoking_status_formerly smoked',\n",
    "    'smoking_status_never smoked'\n",
    "]\n",
    "\n",
    "X_rename_columns = {\n",
    "    'gender_female' : 'is_female',\n",
    "    'smoking_status_smokes' : 'smokes'    \n",
    "}"
   ]
  },
  {
   "cell_type": "code",
   "execution_count": 3,
   "id": "aae1e9ae",
   "metadata": {},
   "outputs": [
    {
     "ename": "NameError",
     "evalue": "name 'df' is not defined",
     "output_type": "error",
     "traceback": [
      "\u001b[1;31m---------------------------------------------------------------------------\u001b[0m",
      "\u001b[1;31mNameError\u001b[0m                                 Traceback (most recent call last)",
      "\u001b[1;32m~\\AppData\\Local\\Temp/ipykernel_32196/561294684.py\u001b[0m in \u001b[0;36m<module>\u001b[1;34m\u001b[0m\n\u001b[1;32m----> 1\u001b[1;33m \u001b[0mX\u001b[0m \u001b[1;33m=\u001b[0m \u001b[0mdf\u001b[0m\u001b[1;33m.\u001b[0m\u001b[0mdrop\u001b[0m\u001b[1;33m(\u001b[0m\u001b[0mcolumns\u001b[0m \u001b[1;33m=\u001b[0m \u001b[0mdf_drop_columns\u001b[0m\u001b[1;33m)\u001b[0m\u001b[1;33m\u001b[0m\u001b[1;33m\u001b[0m\u001b[0m\n\u001b[0m\u001b[0;32m      2\u001b[0m \u001b[0mX\u001b[0m \u001b[1;33m=\u001b[0m \u001b[0mpd\u001b[0m\u001b[1;33m.\u001b[0m\u001b[0mget_dummies\u001b[0m\u001b[1;33m(\u001b[0m\u001b[0mX\u001b[0m\u001b[1;33m)\u001b[0m\u001b[1;33m\u001b[0m\u001b[1;33m\u001b[0m\u001b[0m\n\u001b[0;32m      3\u001b[0m \u001b[0mX\u001b[0m\u001b[1;33m.\u001b[0m\u001b[0mdrop\u001b[0m\u001b[1;33m(\u001b[0m\u001b[0mcolumns\u001b[0m \u001b[1;33m=\u001b[0m \u001b[0mX_drop_columns\u001b[0m\u001b[1;33m,\u001b[0m \u001b[0minplace\u001b[0m \u001b[1;33m=\u001b[0m \u001b[1;32mTrue\u001b[0m\u001b[1;33m)\u001b[0m\u001b[1;33m\u001b[0m\u001b[1;33m\u001b[0m\u001b[0m\n\u001b[0;32m      4\u001b[0m \u001b[0mX\u001b[0m\u001b[1;33m.\u001b[0m\u001b[0mrename\u001b[0m\u001b[1;33m(\u001b[0m\u001b[0mcolumns\u001b[0m \u001b[1;33m=\u001b[0m \u001b[0mX_rename_columns\u001b[0m\u001b[1;33m,\u001b[0m \u001b[0minplace\u001b[0m \u001b[1;33m=\u001b[0m \u001b[1;32mTrue\u001b[0m\u001b[1;33m)\u001b[0m\u001b[1;33m\u001b[0m\u001b[1;33m\u001b[0m\u001b[0m\n\u001b[0;32m      5\u001b[0m \u001b[0my\u001b[0m \u001b[1;33m=\u001b[0m \u001b[0mdf\u001b[0m\u001b[1;33m[\u001b[0m\u001b[1;34m'stroke'\u001b[0m\u001b[1;33m]\u001b[0m\u001b[1;33m\u001b[0m\u001b[1;33m\u001b[0m\u001b[0m\n",
      "\u001b[1;31mNameError\u001b[0m: name 'df' is not defined"
     ]
    }
   ],
   "source": [
    "X = df.drop(columns = df_drop_columns)\n",
    "X = pd.get_dummies(X)\n",
    "X.drop(columns = X_drop_columns, inplace = True)\n",
    "X.rename(columns = X_rename_columns, inplace = True)\n",
    "y = df['stroke']\n",
    "X_train, X_test, y_train, y_test = train_test_split(X, y, test_size = 0.2, stratify = y, random_state = 42)"
   ]
  },
  {
   "cell_type": "code",
   "execution_count": null,
   "id": "ab4e3886",
   "metadata": {},
   "outputs": [],
   "source": [
    "svc = SVC(kernel = 'linear', probability = True, class_weight = 'balanced')\n",
    "\n",
    "svc.fit(X_train, y_train)\n",
    "train_accuracy_score = svc.score(X_train, y_train)\n",
    "print('Train Accuracy Score ', train_accuracy_score)\n",
    "test_accuracy_score = svc.score(X_test, y_test)\n",
    "print('Test Accuracy Score ', test_accuracy_score)"
   ]
  },
  {
   "cell_type": "code",
   "execution_count": null,
   "id": "9f711d44",
   "metadata": {},
   "outputs": [],
   "source": [
    "y_pred = svc.predict(X_test)\n",
    "\n",
    "# predict test probability\n",
    "prob_preds = svc.predict_proba(X_test)\n",
    "\n",
    "svc_tp, svc_fn, svc_fp, svc_tn = confusion_matrix(y_test, y_pred, labels = [1,0]).reshape(-1)\n",
    "print(svc_tp, svc_fn, svc_fp, svc_tn)\n",
    "\n",
    "print(np.mean(cross_val_score(log, X_train, y_train, cv = 5)))"
   ]
  },
  {
   "cell_type": "code",
   "execution_count": null,
   "id": "eee71f72",
   "metadata": {},
   "outputs": [],
   "source": [
    "cm_index = ['is_cancer', 'is_healthy']\n",
    "cm_columns = ['predicted_cancer', 'predicted_healthy']\n",
    "svc_cm = confusion_matrix(y_pred, y_test)\n",
    "svc_cm = pd.DataFrame(svc_cm, index = cm_index, columns = cm_columns)\n",
    "svc_cm"
   ]
  },
  {
   "cell_type": "code",
   "execution_count": null,
   "id": "5c1a87ed",
   "metadata": {},
   "outputs": [],
   "source": [
    "# ros = RandomOverSampler(random_state = 42)\n",
    "under = RandomUnderSampler(sampling_strategy = 'majority')\n",
    "\n",
    "# Fit Predictor and target\n",
    "\n",
    "X_train_under, y_train_under = under.fit_resample(X_train, y_train)\n",
    "\n",
    "print('Original dataset shape ', Counter(y_train))\n",
    "print('Resample dataset shape ', Counter(y_train_under))"
   ]
  },
  {
   "cell_type": "code",
   "execution_count": null,
   "id": "f438c3aa",
   "metadata": {},
   "outputs": [],
   "source": [
    "svc = SVC(kernel = 'linear', probability = True, class_weight = 'balanced')\n",
    "\n",
    "svc.fit(X_train_under, y_train_under)\n",
    "train_accuracy_score = svc.score(X_train_under, y_train_under)\n",
    "print('Train Accuracy Score ', train_accuracy_score)\n",
    "test_accuracy_score = svc.score(X_test, y_test)\n",
    "print('Test Accuracy Score ', test_accuracy_score)"
   ]
  },
  {
   "cell_type": "code",
   "execution_count": null,
   "id": "2569766b",
   "metadata": {},
   "outputs": [],
   "source": [
    "y_pred = svc.predict(X_test)\n",
    "\n",
    "prob_preds = svc.predict_proba(X_test)"
   ]
  },
  {
   "cell_type": "code",
   "execution_count": null,
   "id": "c532b866",
   "metadata": {},
   "outputs": [],
   "source": [
    "svc_tp, svc_fn, svc_fp, svc_tn = confusion_matrix(y_test, y_pred, labels = [1,0]).reshape(-1)\n",
    "print('Outcome values: \\n', svc_tp, svc_fn, svc_fp, svc_tn)"
   ]
  },
  {
   "cell_type": "code",
   "execution_count": null,
   "id": "b05818dc",
   "metadata": {},
   "outputs": [],
   "source": [
    "# Calculate Accuracy\n",
    "\n",
    "accuracy = (svc_tp + svc_tn) / float(svc_tp + svc_tn + svc_fp + svc_fn)\n",
    "print('Classification Accuracy: ', accuracy)"
   ]
  },
  {
   "cell_type": "code",
   "execution_count": null,
   "id": "214ffbfc",
   "metadata": {},
   "outputs": [],
   "source": [
    "# Calculate Classification Error\n",
    "\n",
    "misclassification_rate = (svc_fp + svc_fn) / float(svc_tp + svc_tn + svc_fp + svc_fn)\n",
    "print('Misclassification rate is ', misclassification_rate)"
   ]
  },
  {
   "cell_type": "code",
   "execution_count": null,
   "id": "9d2dc4cb",
   "metadata": {},
   "outputs": [],
   "source": [
    "# Calculate True Positive Rate (Sensitivity)\n",
    "\n",
    "svc_tpr = svc_tp/float(svc_fn + svc_tp)\n",
    "print('tpr is ', svc_tpr)"
   ]
  },
  {
   "cell_type": "code",
   "execution_count": null,
   "id": "bb12dca2",
   "metadata": {},
   "outputs": [],
   "source": [
    "# Calculate Specificity (True Negative Rate)\n",
    "svc_tnr = svc_tn / float(svc_tn + svc_fp)\n",
    "print('Correct Negative Prediction Rate: ', svc_tnr)"
   ]
  },
  {
   "cell_type": "code",
   "execution_count": null,
   "id": "e73340ad",
   "metadata": {},
   "outputs": [],
   "source": [
    "# Calculate false positive rate\n",
    "\n",
    "svc_fpr = svc_fp / float(svc_tn + svc_fp)\n",
    "print('False positive rate: ', svc_fpr)"
   ]
  },
  {
   "cell_type": "code",
   "execution_count": null,
   "id": "a3b33d86",
   "metadata": {},
   "outputs": [],
   "source": [
    "# Calculate Precision \n",
    "\n",
    "svc_precision = svc_tp / float(svc_tp + svc_fp)\n",
    "print('Precision: ', svc_precision)"
   ]
  },
  {
   "cell_type": "code",
   "execution_count": null,
   "id": "33aa6da5",
   "metadata": {},
   "outputs": [],
   "source": [
    "cm_index = ['is_stroke', 'is_healthy']\n",
    "cm_columns = ['predicted_stroke', 'predicted_healthy']\n",
    "svc_cm = confusion_matrix(y_pred, y_test)\n",
    "svc_cm = pd.DataFrame(svc_cm, index = cm_index, columns = cm_columns)\n",
    "svc_cm"
   ]
  },
  {
   "cell_type": "code",
   "execution_count": null,
   "id": "7b81eceb",
   "metadata": {},
   "outputs": [],
   "source": [
    "print(classification_report(y_test, y_pred))"
   ]
  },
  {
   "cell_type": "markdown",
   "id": "d3d3db97",
   "metadata": {},
   "source": [
    "# Naive Bayes"
   ]
  },
  {
   "cell_type": "code",
   "execution_count": null,
   "id": "ea7c9bc0",
   "metadata": {},
   "outputs": [],
   "source": [
    "df_drop_columns = ['id', 'stroke', 'ever_married', 'work_type', 'Residence_type']\n",
    "X_drop_columns = [\n",
    "    'gender_Male',\n",
    "    'gender_Other',\n",
    "    'smoking_status_Unknown',\n",
    "    'smoking_status_formerly smoked',\n",
    "    'smoking_status_never smoked'\n",
    "]\n",
    "\n",
    "X_rename_columns = {\n",
    "    'gender_female' : 'is_female',\n",
    "    'smoking_status_smokes' : 'smokes'    \n",
    "}"
   ]
  },
  {
   "cell_type": "code",
   "execution_count": null,
   "id": "77230cc4",
   "metadata": {},
   "outputs": [],
   "source": [
    "X = df.drop(columns = df_drop_columns)\n",
    "X = pd.get_dummies(X)\n",
    "X.drop(columns = X_drop_columns, inplace = True)\n",
    "X.rename(columns = X_rename_columns, inplace = True)\n",
    "y = df['stroke']\n",
    "X_train, X_test, y_train, y_test = train_test_split(X, y, test_size = 0.2, stratify = y, random_state = 42)"
   ]
  },
  {
   "cell_type": "code",
   "execution_count": null,
   "id": "0e1a68a8",
   "metadata": {},
   "outputs": [],
   "source": [
    "\n",
    "nb = GaussianNB()\n",
    "nb.fit(X_train, y_train)\n",
    "train_accuracy = nb.score(X_train, y_train)\n",
    "print('Train Accuracy ', train_accuracy)\n",
    "\n",
    "test_accuracy = nb.score(X_test, y_test)\n",
    "print('Test Accuracy ', test_accuracy)"
   ]
  },
  {
   "cell_type": "code",
   "execution_count": null,
   "id": "625e29f1",
   "metadata": {},
   "outputs": [],
   "source": [
    "y_pred = nb.predict(X_test)\n",
    "\n",
    "prob_preds = nb.predict_proba(X_test)\n",
    "\n",
    "nb_tp, nb_fn, nb_fp, nb_tn = confusion_matrix(y_test, y_pred, labels = [1, 0]).reshape(-1)\n",
    "print('Outcome values \\n', nb_tp, nb_fn, nb_fp, nb_tn)"
   ]
  },
  {
   "cell_type": "code",
   "execution_count": null,
   "id": "dd3d1964",
   "metadata": {},
   "outputs": [],
   "source": [
    "cm_index = ['is_stroke', 'is_healthy']\n",
    "cm_columns = ['predicted_stroke', 'predicted_healthy']\n",
    "nb_cm = confusion_matrix(y_pred, y_test)\n",
    "nb_cm = pd.DataFrame(nb_cm, index = cm_index, columns = cm_columns)\n",
    "nb_cm"
   ]
  },
  {
   "cell_type": "code",
   "execution_count": null,
   "id": "8f7ca880",
   "metadata": {},
   "outputs": [],
   "source": [
    "print(classification_report(y_test, y_pred))"
   ]
  },
  {
   "cell_type": "code",
   "execution_count": null,
   "id": "7ca194da",
   "metadata": {},
   "outputs": [],
   "source": [
    "# ros = RandomOverSampler(random_state = 42)\n",
    "smote = SMOTE()\n",
    "\n",
    "# Fit Predictor and target\n",
    "\n",
    "X_train_smote, y_train_smote = smote.fit_resample(X_train, y_train)\n",
    "\n",
    "print('Original dataset shape ', Counter(y_train))\n",
    "print('Resample dataset shape ', Counter(y_train_smote))"
   ]
  },
  {
   "cell_type": "code",
   "execution_count": null,
   "id": "daffa908",
   "metadata": {},
   "outputs": [],
   "source": [
    "nb = GaussianNB()\n",
    "nb.fit(X_train_smote, y_train_smote)\n",
    "train_accuracy = nb.score(X_train_smote, y_train_smote)\n",
    "print('Train Accuracy ', train_accuracy)\n",
    "\n",
    "test_accuracy = nb.score(X_test, y_test)\n",
    "print('Test Accuracy ', test_accuracy)"
   ]
  },
  {
   "cell_type": "code",
   "execution_count": null,
   "id": "a3b7f948",
   "metadata": {},
   "outputs": [],
   "source": [
    "y_pred = nb.predict(X_test)\n",
    "\n",
    "prob_preds = nb.predict_proba(X_test)\n",
    "\n",
    "nb_tp, nb_fn, nb_fp, nb_tn = confusion_matrix(y_test, y_pred, labels = [1,0]).reshape(-1)\n",
    "print('Outcome values: \\n', nb_tp, nb_fn, nb_fp, nb_tn)"
   ]
  },
  {
   "cell_type": "code",
   "execution_count": null,
   "id": "1262f97c",
   "metadata": {},
   "outputs": [],
   "source": [
    "cm_index = ['is_stroke', 'is_healthy']\n",
    "cm_columns = ['predicted_stroke', 'predicted_healthy']\n",
    "nb_cm = confusion_matrix(y_pred, y_test)\n",
    "nb_cm = pd.DataFrame(nb_cm, index = cm_index, columns = cm_columns)\n",
    "nb_cm"
   ]
  },
  {
   "cell_type": "code",
   "execution_count": null,
   "id": "3cffc564",
   "metadata": {},
   "outputs": [],
   "source": [
    "print(classification_report(y_test, y_pred))"
   ]
  },
  {
   "cell_type": "code",
   "execution_count": null,
   "id": "620b12ec",
   "metadata": {},
   "outputs": [],
   "source": [
    "# Print Accuracy\n",
    "\n",
    "\n",
    "accuracy = (nb_tp + nb_tn) / float(nb_tp + nb_tn + nb_fp + nb_fn)\n",
    "print('Accuracy: ', accuracy )"
   ]
  },
  {
   "cell_type": "code",
   "execution_count": null,
   "id": "e1d2a53e",
   "metadata": {},
   "outputs": [],
   "source": [
    "# Print Classification Error\n",
    "\n",
    "misclassification_rate = (nb_fp + nb_fn) / float(nb_tp + nb_tn + nb_fp + nb_fn)\n",
    "print('Misclassification Rate: ', misclassification_rate)"
   ]
  },
  {
   "cell_type": "code",
   "execution_count": null,
   "id": "735eafc6",
   "metadata": {},
   "outputs": [],
   "source": [
    "# Calculate Sensitivity (True Positive Rate)\n",
    "\n",
    "nb_tpr = nb_tp / float(nb_tp + nb_fn)\n",
    "print('Sensitivity(True Positive Rate): ', nb_tpr)"
   ]
  },
  {
   "cell_type": "code",
   "execution_count": null,
   "id": "b528e459",
   "metadata": {},
   "outputs": [],
   "source": [
    "# Calculate Specifity (True Negative Rate)\n",
    "\n",
    "nb_tnr = nb_tn / float(nb_tn + nb_fp)\n",
    "print('Specifity (True Negative Rate): ', nb_tnr)"
   ]
  },
  {
   "cell_type": "code",
   "execution_count": null,
   "id": "92db9d60",
   "metadata": {},
   "outputs": [],
   "source": [
    "# Calculate False Positive Rate\n",
    "\n",
    "nb_fpr = nb_fp / float(nb_tn + nb_fp)\n",
    "print('False Positive Rate: ', nb_fpr)"
   ]
  },
  {
   "cell_type": "code",
   "execution_count": null,
   "id": "ba29a9ff",
   "metadata": {},
   "outputs": [],
   "source": [
    "# Calculate Precision\n",
    "\n",
    "precision = nb_tp / float(nb_tp + nb_fp)\n",
    "\n",
    "print('Precision: ', precision)"
   ]
  },
  {
   "cell_type": "code",
   "execution_count": null,
   "id": "7ac30f60",
   "metadata": {},
   "outputs": [],
   "source": [
    "from sklearn.model_selection import GridSearchCV"
   ]
  },
  {
   "cell_type": "markdown",
   "id": "d0d1f50c",
   "metadata": {},
   "source": [
    "# Best Estimator for Logistic Regression"
   ]
  },
  {
   "cell_type": "code",
   "execution_count": null,
   "id": "586e75b8",
   "metadata": {},
   "outputs": [],
   "source": [
    "lr_params = {\n",
    "    'penalty' : ['l1', 'l2'],\n",
    "    'C' : [1, 10, 100]\n",
    "}\n",
    "\n",
    "lr_grid = GridSearchCV(estimator = LogisticRegression(solver = 'liblinear'),\n",
    "                      param_grid = lr_params)\n",
    "\n",
    "lr_grid.fit(X, y)"
   ]
  },
  {
   "cell_type": "code",
   "execution_count": null,
   "id": "76c1968f",
   "metadata": {},
   "outputs": [],
   "source": [
    "lr_best_score = lr_grid.best_score_\n",
    "lr_best_estimator = lr_grid.best_estimator_.C\n",
    "\n",
    "print('Best score for logistic Regression ', lr_best_score)\n",
    "print('Best estimator for Logistic Regression ', lr_best_estimator)"
   ]
  },
  {
   "cell_type": "markdown",
   "id": "33c684ad",
   "metadata": {},
   "source": [
    "# Best Estimator for Support Vector Machine"
   ]
  },
  {
   "cell_type": "code",
   "execution_count": null,
   "id": "5a32eec2",
   "metadata": {},
   "outputs": [],
   "source": [
    "svc_params = {\n",
    "#     'C' : [1, 10, 100],\n",
    "    'gamma' : [0.001, 0.0001],\n",
    "    'kernel' : ['linear', 'rbf']\n",
    "}\n",
    "\n",
    "svc_grid = GridSearchCV(estimator = svc,\n",
    "                        param_grid = svc_params)\n",
    "svc_grid.fit(X, y)"
   ]
  },
  {
   "cell_type": "code",
   "execution_count": null,
   "id": "cbedcfca",
   "metadata": {},
   "outputs": [],
   "source": [
    "svc_grid_best_score = svc_grid.best_score_\n",
    "svc_grid_best_estimator = svc_grid.best_estimator_.C\n",
    "\n",
    "print('SVC best score is ', svc_grid_best_score)\n",
    "print('SVC best estimator is ', svc_grid_best_estimator)"
   ]
  },
  {
   "cell_type": "markdown",
   "id": "4f24e6f6",
   "metadata": {},
   "source": [
    "# Best Estimator for Naive Bayer"
   ]
  },
  {
   "cell_type": "code",
   "execution_count": null,
   "id": "f06d76ae",
   "metadata": {},
   "outputs": [],
   "source": [
    "nb_params = {\n",
    "    'var_smoothing': np.logspace(0, -9, num = 100)\n",
    "}\n",
    "\n",
    "nb_grid = GridSearchCV(estimator = GaussianNB(), param_grid = nb_params, verbose = 1, cv = 10, n_jobs = 1)\n",
    "\n",
    "nb_grid.fit(X, y)\n",
    "\n",
    "print('Best NB estimator ',  nb_grid.best_estimator_)\n",
    "print('Best NB Score ',  nb_grid.best_score_)"
   ]
  },
  {
   "cell_type": "markdown",
   "id": "6d469654",
   "metadata": {},
   "source": [
    "# KNN Best Estimator"
   ]
  },
  {
   "cell_type": "code",
   "execution_count": null,
   "id": "bfd7cdda",
   "metadata": {},
   "outputs": [],
   "source": [
    "knn_params = {\n",
    "    'weights' : ['uniform', 'distance'],\n",
    "    'metric' : ['euclidean', 'manhattan']\n",
    "}\n",
    "\n",
    "knn_grid = GridSearchCV(\n",
    "    KNeighborsClassifier(),\n",
    "    knn_params,\n",
    "    verbose = 1,\n",
    "    cv = 3,\n",
    "    n_jobs = -1\n",
    ")\n",
    "\n",
    "knn_grid.fit(X, y)\n",
    "\n",
    "print('Best KNN Estimator ', knn_grid.best_estimator_)\n",
    "print('Best KNN score ', knn_grid.best_score_)"
   ]
  },
  {
   "cell_type": "markdown",
   "id": "bce16c51",
   "metadata": {},
   "source": [
    "# Random Forest"
   ]
  },
  {
   "cell_type": "code",
   "execution_count": null,
   "id": "6d3c80fb",
   "metadata": {},
   "outputs": [],
   "source": [
    "rfc_params = {\n",
    "    'n_estimators' : [200, 700],\n",
    "    'max_features' : ['auto', 'sqrt', 'log2']\n",
    "}\n",
    "\n",
    "rfc_grid = GridSearchCV(estimator = RandomForestClassifier(n_estimators = 400, class_weight = 'balanced'), param_grid = rfc_params, cv = 5)\n",
    "rfc_grid.fit(X, y)\n",
    "print('Random Forest Best Estimator ', rfc_grid.best_estimator_)\n",
    "print('Random Forest Best Score ', rfc_grid.best_score_)"
   ]
  },
  {
   "cell_type": "markdown",
   "id": "fc36c40f",
   "metadata": {},
   "source": [
    "# ROC curve for the SVM, Logistic Regression and Naive Bayes on the Same plot"
   ]
  },
  {
   "cell_type": "code",
   "execution_count": 4,
   "id": "dbc05422",
   "metadata": {},
   "outputs": [
    {
     "ename": "NameError",
     "evalue": "name 'log' is not defined",
     "output_type": "error",
     "traceback": [
      "\u001b[1;31m---------------------------------------------------------------------------\u001b[0m",
      "\u001b[1;31mNameError\u001b[0m                                 Traceback (most recent call last)",
      "\u001b[1;32m~\\AppData\\Local\\Temp/ipykernel_32196/60385099.py\u001b[0m in \u001b[0;36m<module>\u001b[1;34m\u001b[0m\n\u001b[1;32m----> 1\u001b[1;33m \u001b[0mlog_preds\u001b[0m \u001b[1;33m=\u001b[0m \u001b[0mlog\u001b[0m\u001b[1;33m.\u001b[0m\u001b[0mpredict_proba\u001b[0m\u001b[1;33m(\u001b[0m\u001b[0mX_test\u001b[0m\u001b[1;33m)\u001b[0m\u001b[1;33m\u001b[0m\u001b[1;33m\u001b[0m\u001b[0m\n\u001b[0m\u001b[0;32m      2\u001b[0m \u001b[0msvc_preds\u001b[0m \u001b[1;33m=\u001b[0m \u001b[0msvc\u001b[0m\u001b[1;33m.\u001b[0m\u001b[0mpredict_proba\u001b[0m\u001b[1;33m(\u001b[0m\u001b[0mX_test\u001b[0m\u001b[1;33m)\u001b[0m\u001b[1;33m\u001b[0m\u001b[1;33m\u001b[0m\u001b[0m\n\u001b[0;32m      3\u001b[0m \u001b[0mnb_preds\u001b[0m \u001b[1;33m=\u001b[0m \u001b[0mnb\u001b[0m\u001b[1;33m.\u001b[0m\u001b[0mpredict_proba\u001b[0m\u001b[1;33m(\u001b[0m\u001b[0mX_test\u001b[0m\u001b[1;33m)\u001b[0m\u001b[1;33m\u001b[0m\u001b[1;33m\u001b[0m\u001b[0m\n\u001b[0;32m      4\u001b[0m \u001b[0mknn_preds\u001b[0m \u001b[1;33m=\u001b[0m \u001b[0mknn\u001b[0m\u001b[1;33m.\u001b[0m\u001b[0mpredict_proba\u001b[0m\u001b[1;33m(\u001b[0m\u001b[0mX_test\u001b[0m\u001b[1;33m)\u001b[0m\u001b[1;33m\u001b[0m\u001b[1;33m\u001b[0m\u001b[0m\n\u001b[0;32m      5\u001b[0m \u001b[0mrfc_preds\u001b[0m \u001b[1;33m=\u001b[0m \u001b[0mrfc\u001b[0m\u001b[1;33m.\u001b[0m\u001b[0mpredict_proba\u001b[0m\u001b[1;33m(\u001b[0m\u001b[0mX_test\u001b[0m\u001b[1;33m)\u001b[0m\u001b[1;33m\u001b[0m\u001b[1;33m\u001b[0m\u001b[0m\n",
      "\u001b[1;31mNameError\u001b[0m: name 'log' is not defined"
     ]
    }
   ],
   "source": [
    "log_preds = log.predict_proba(X_test)\n",
    "svc_preds = svc.predict_proba(X_test)\n",
    "nb_preds = nb.predict_proba(X_test)\n",
    "knn_preds = knn.predict_proba(X_test)\n",
    "rfc_preds = rfc.predict_proba(X_test)\n",
    "\n",
    "log_fpr, log_tpr, _ = roc_curve(y_test, log_preds[:,1])\n",
    "svc_fpr, svc_tpr, _ = roc_curve(y_test, svc_preds[:,1])\n",
    "nb_fpr, nb_tpr, _ = roc_curve(y_test, nb_preds[:,1])\n",
    "knn_fpr, knn_tpr, _ = roc_curve(y_test, knn_preds[:,1])\n",
    "rfc_fpr, rfc_tpr, _ = roc_curve(y_test, rfc_preds[:,1])\n",
    "\n",
    "plt.figure(figsize = [20,20])\n",
    "\n",
    "log_auc = auc(log_fpr, log_tpr)\n",
    "svc_auc = auc(svc_fpr, svc_tpr)\n",
    "nb_auc = auc(nb_fpr, nb_tpr)\n",
    "knn_auc = auc(knn_fpr, knn_tpr)\n",
    "rfc_auc = auc(rfc_fpr, rfc_tpr)\n",
    "\n",
    "log_label = 'ROC Curve Logistic Regression (area = %0.5f)'%log_auc\n",
    "svc_label = 'ROC Curve SVC (area = %0.5f)'%svc_auc\n",
    "nb_label = 'ROC Curve Gaussian NB (area = %0.5f)' % nb_auc\n",
    "knn_label = 'K Nearest Neighbour (area = %0.5f)' % knn_auc\n",
    "rfc_label = 'Random Forest Classifier (area = %0.5f)' % rfc_auc\n",
    "plt.rcParams.update({'font.size': 25})\n",
    "\n",
    "plt.plot(log_fpr, log_tpr, label = log_label, linewidth = 4)\n",
    "plt.plot(svc_fpr, svc_tpr, label = svc_label, linewidth = 4)\n",
    "plt.plot(nb_fpr, nb_tpr, label = nb_label, linewidth = 4)\n",
    "plt.plot(knn_fpr, knn_tpr, label = knn_label, linewidth = 4)\n",
    "plt.plot(rfc_fpr, rfc_tpr, label = rfc_label, linewidth = 4)\n",
    "\n",
    "plt.plot([0, 1], [0, 1], 'k--', linewidth=4)\n",
    "\n",
    "plt.xlim([-0.05, 1.0])\n",
    "plt.ylim([-0.05, 1.05])\n",
    "\n",
    "plt.xlabel('False Positive Rate', fontsize = 25)\n",
    "plt.ylabel('True Positive Rate', fontsize = 25)\n",
    "plt.title('Receiver Operating Characteristic: M', fontsize = 25)\n",
    "plt.legend(loc = 'lower right')\n",
    "plt.show()"
   ]
  },
  {
   "cell_type": "markdown",
   "id": "297081ca",
   "metadata": {},
   "source": [
    "# Precision Recall Curve"
   ]
  },
  {
   "cell_type": "code",
   "execution_count": null,
   "id": "960edb44",
   "metadata": {},
   "outputs": [],
   "source": [
    "from sklearn.metrics import precision_recall_curve\n",
    "from sklearn.metrics import f1_score\n",
    "\n",
    "# Predict Probabilities\n",
    "log_probs = log.predict_proba(X_test)\n",
    "svc_probs = svc.predict_proba(X_test)\n",
    "nb_probs = nb.predict_proba(X_test)\n",
    "knn_probs = knn.predict_proba(X_test)\n",
    "rfc_probs = rfc.predict_proba(X_test)\n",
    "\n",
    "# Keep probabilities for outcome only\n",
    "log_probs = log_probs[:,1]\n",
    "svc_probs = svc_probs[:,1]\n",
    "nb_probs = nb_probs[:,1]\n",
    "knn_probs = knn_probs[:,1]\n",
    "rfc_probs = rfc_probs[:,1]\n",
    "\n",
    "\n",
    "\n",
    "# Predict class values\n",
    "log_y_preds = log.predict(X_test)\n",
    "svc_y_preds = svc.predict(X_test)\n",
    "nb_y_preds = svc.predict(X_test)\n",
    "knn_y_preds = knn.predict(X_test)\n",
    "rfc_y_preds = rfc.predict(X_test)\n",
    "\n",
    "\n",
    "\n",
    "# Precision Recall\n",
    "log_precision, log_recall, _= precision_recall_curve(y_test, log_probs)\n",
    "svc_precision, svc_recall,_ = precision_recall_curve(y_test, svc_probs)\n",
    "nb_precision, nb_recall,_ = precision_recall_curve(y_test, nb_probs)\n",
    "knn_precision, knn_recall,_ = precision_recall_curve(y_test, knn_probs)\n",
    "rfc_precision, rfc_recall,_ = precision_recall_curve(y_test, rfc_probs)\n",
    "\n",
    "\n",
    "# F1 and AUC\n",
    "\n",
    "log_f1, log_auc = f1_score(y_test, log_y_preds), auc(log_recall, log_precision)\n",
    "svc_f1, svc_auc = f1_score(y_test, svc_y_preds), auc(svc_recall, svc_precision)\n",
    "nb_f1, nb_auc = f1_score(y_test, nb_y_preds), auc(nb_recall, nb_precision)\n",
    "knn_f1, knn_auc = f1_score(y_test, knn_y_preds), auc(knn_recall, knn_precision)\n",
    "rfc_f1, rfc_auc = f1_score(y_test, rfc_y_preds), auc(rfc_recall, rfc_precision)\n",
    "\n",
    "\n",
    "\n",
    "# Summarize Scpres\n",
    "print('Logistic: f1=%.5f auc=%.9f' % (log_f1, log_auc))\n",
    "print('Support Vector Machine: f1=%.9f auc=%.5f' % (svc_f1, svc_auc))\n",
    "print('Naive Bayes: f1=%.9f auc=%.5f' % (nb_f1, nb_auc))\n",
    "print('K Nearest Neighbours: f1=%.5f auc=%.5f' % (knn_f1, knn_auc))\n",
    "print('Random Forest Classifier: f1=%.5f auc=%.5f' % (rfc_f1, rfc_auc))\n",
    "\n",
    "\n",
    "# plot the precision-recall curves\n",
    "\n",
    "plt.figure(figsize = (20, 20))\n",
    "no_skill = len(y_test[y_test == 1]) / len(y_test)\n",
    "\n",
    "plt.plot(log_recall, log_precision, marker = '.', label = 'Logistic')\n",
    "plt.plot(svc_recall, svc_precision, marker = '.', label = 'Support Vector Machine')\n",
    "plt.plot(nb_recall, nb_precision, marker = '.', label = 'Naive Bayes')\n",
    "plt.plot(knn_recall, knn_precision, marker = '.', label = 'K Nearest Neighbour')\n",
    "plt.plot(rfc_recall, rfc_precision, marker = '.', label = 'Random Forest Classifier')\n",
    "plt.plot([0, 1], [no_skill, no_skill], linestyle = '--', label = 'No Skill')\n",
    "\n",
    "# Axis labels\n",
    "\n",
    "plt.xlabel('Recall')\n",
    "plt.ylabel('Precision')\n",
    "\n",
    "# Show Legend\n",
    "plt.legend()\n",
    "\n",
    "# Show the plot\n",
    "\n",
    "plt.show()"
   ]
  },
  {
   "cell_type": "code",
   "execution_count": null,
   "id": "ac071e8a",
   "metadata": {},
   "outputs": [],
   "source": []
  }
 ],
 "metadata": {
  "kernelspec": {
   "display_name": "Python 3 (ipykernel)",
   "language": "python",
   "name": "python3"
  },
  "language_info": {
   "codemirror_mode": {
    "name": "ipython",
    "version": 3
   },
   "file_extension": ".py",
   "mimetype": "text/x-python",
   "name": "python",
   "nbconvert_exporter": "python",
   "pygments_lexer": "ipython3",
   "version": "3.8.12"
  }
 },
 "nbformat": 4,
 "nbformat_minor": 5
}
